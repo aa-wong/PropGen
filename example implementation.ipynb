{
 "cells": [
  {
   "cell_type": "code",
   "execution_count": 1,
   "id": "acb7ad29",
   "metadata": {},
   "outputs": [],
   "source": [
    "from dotenv import load_dotenv\n",
    "import os"
   ]
  },
  {
   "cell_type": "code",
   "execution_count": 2,
   "id": "471c06f6",
   "metadata": {},
   "outputs": [
    {
     "data": {
      "text/plain": [
       "True"
      ]
     },
     "execution_count": 2,
     "metadata": {},
     "output_type": "execute_result"
    }
   ],
   "source": [
    "load_dotenv()"
   ]
  },
  {
   "cell_type": "code",
   "execution_count": 3,
   "id": "d216f324",
   "metadata": {},
   "outputs": [
    {
     "name": "stderr",
     "output_type": "stream",
     "text": [
      "/Users/aaronwong/miniconda3/envs/langchain-env/lib/python3.11/site-packages/pinecone/index.py:4: TqdmExperimentalWarning: Using `tqdm.autonotebook.tqdm` in notebook mode. Use `tqdm.tqdm` instead to force console mode (e.g. in jupyter console)\n",
      "  from tqdm.autonotebook import tqdm\n",
      "[nltk_data] Downloading package punkt to /Users/aaronwong/nltk_data...\n",
      "[nltk_data]   Package punkt is already up-to-date!\n"
     ]
    }
   ],
   "source": [
    "from prop_gen import PropGen"
   ]
  },
  {
   "cell_type": "code",
   "execution_count": 4,
   "id": "31ac0d01",
   "metadata": {},
   "outputs": [],
   "source": [
    "prop_gen = PropGen({\n",
    "    'index_name':'propos-ai',\n",
    "    'input_directory': './sample_rfps'\n",
    "})"
   ]
  },
  {
   "cell_type": "code",
   "execution_count": null,
   "id": "702c381b",
   "metadata": {},
   "outputs": [],
   "source": [
    "prop_gen.query(\"What is the pricing model?\")"
   ]
  },
  {
   "cell_type": "code",
   "execution_count": 5,
   "id": "1dace8de",
   "metadata": {},
   "outputs": [
    {
     "name": "stdout",
     "output_type": "stream",
     "text": [
      "converting files in directoy: ./sample_rfps to ./output_directory\n",
      "Preprocessing pdfs in directory ./output_directory\n",
      "Updating index: propos-ai\n",
      "Inserting PDF docs to index: propos-ai\n",
      "Inserting text to index: propos-ai\n"
     ]
    }
   ],
   "source": [
    "prop_gen.update_index()"
   ]
  },
  {
   "cell_type": "code",
   "execution_count": null,
   "id": "43f9b370",
   "metadata": {},
   "outputs": [],
   "source": []
  },
  {
   "cell_type": "code",
   "execution_count": null,
   "id": "40bd49b0",
   "metadata": {},
   "outputs": [],
   "source": [
    "questions = (\n",
    "    \"1. Who will serve as the primary contact for this RFP?\\n\"\n",
    "    \"2. Please provide a company overview.\\n\"\n",
    "    \"3. Where is your company located?\\n\"\n",
    "    \"4. How long have you been in business?\\n\"\n",
    "    \"5. Please provide your company’s mission and/or vision statement.\\n\"\n",
    "    \"6. Describe the company structure. (Private, public, partnership, etc)\\n\"\n",
    "    \"7. How many full-time, part-time and contract employees do you have? (Please provide breakdown)\\n\"\n",
    "    \"8. What awards or recognition has your company received in the last three years?\\n\"\n",
    "    \"9. Is your company affiliated with any industry or professional associations?\\n\"\n",
    "    \"10. What licenses or certifications does your company hold?\\n\"\n",
    "    \"11. Please provide a product or service overview and description.\\n\"\n",
    "    \"12. Describe your plans for growth over the next 3 years.\\n\"\n",
    "    \"14. What is your target customer base?\\n\"\n",
    "    \"15. How many customers do you currently serve?\\n\"\n",
    "    \"16. What is your customer retention rate?\\n\"\n",
    "    \"17. Who are your five biggest customers?\\n\"\n",
    "    \"18. What percentage of your revenue comes from the top three accounts?\\n\"\n",
    "    \"19. How long is your average customer relationship?\\n\"\n",
    "    \"20. Are any of our primary competitors customers? (Competitor 1, Competitor 2, Competitor 3)\\n\"\n",
    "    \"21. Please provide contact information for three customer references.\\n\"\n",
    "    \"22. On average, what ROI do customers report after using your service/product?\\n\"\n",
    "    \"22. Who are your top three competitors?\\n\"\n",
    "    \"23. What are your primary competitive differentiators?\\n\"\n",
    "    \"24. Why should we work with you instead of one of your competitors?\\n\"\n",
    "    \"25. Are there alternative solutions that could better meet our needs?\\n\"\n",
    "    \"26. Describe current industry trends and how your company keeps us on the leading edge.\\n\"\n",
    "    \"27. Please indicate your ability to meet our RFP requirements.\\n\"\n",
    "    \"28. Provide a sample timeline for our outlined deliverables.\\n\"\n",
    "    \"29. Do you recommend any customization or additional features to achieve our goals?\\n\"\n",
    "    \"30. What self-service reporting tools are available to us?\\n\"\n",
    "    \"31. How do you determine your roadmap and/or product strategy?\\n\"\n",
    "    \"32. What integrations are available?\\n\"\n",
    "    \"33. When are updates and enhancements delivered to customers?\\n\"\n",
    "    \"34. What is your company’s approach to project management?\\n\"\n",
    "    \"35. How often are projects completed on time and within budget?\\n\"\n",
    "    \"36. What action, participation or documentation is required from our organization to ensure timely implementation?\\n\"\n",
    "    \"37. What experience do you have working with organizations like ours?\\n\"\n",
    "    \"38. Please provide any relevant case studies.\\n\"\n",
    "    \"39. What resources will be dedicated to our account?\\n\"\n",
    "    \"40. Provide brief biographies and project experience for primary contacts assigned to our account.\\n\"\n",
    "    \"41. How often will you report our progress and results?\\n\"\n",
    "    \"42. What technology do you leverage to ensure excellent customer communication and experience?\\n\"\n",
    "    \"43. Provide a list of the standard report options, what each includes and available formats.\\n\"\n",
    "    \"44. How are usage and performance reports provided?\\n\"\n",
    "    \"45. What KPIs do you track and report?\\n\"\n",
    "    \"46. Describe your approach to continuous process improvement.\\n\"\n",
    "    \"47. On average, how long does implementation take?\\n\"\n",
    "    \"48. What is your averaged time to value (TtV)?\\n\"\n",
    "    \"49. Describe your training and onboarding process.\\n\"\n",
    "    \"50. What is required from a customer to ensure success?\\n\"\n",
    "    \"51. Do you have a change management process?\\n\"\n",
    "    \"52. What is a successful customer journey to your organization?\\n\"\n",
    "    \"53. Do you conduct quarterly business reviews with customers?\\n\"\n",
    "    \"54. How do you provide updates, track progress and ensure our success?\\n\"\n",
    "    \"55. Please provide a list of self-service tools or resources that are available after onboarding.\\n\"\n",
    "    \"56. How do you manage customer requests, complaints, concerns and feedback?\\n\"\n",
    "    \"57. Do you use in-house or outsourced resources for customer support?\\n\"\n",
    "    \"58. Provide a pricing estimate based on the scope described.\\n\"\n",
    "    \"59. Please describe your current pricing model/methodology.\\n\"\n",
    "    \"60. What are the itemized one-time, startup costs and recurring annual/monthly costs?\\n\"\n",
    "    \"61. Please list all services and features included in the proposed pricing.\\n\"\n",
    "    \"62. What limits are imposed upon users, training hours, professional services and data storage?\\n\"\n",
    "    \"63. At what level do you provide volume discounts?\\n\"\n",
    "    \"64. Describe your upgrade process if we need to increase our scope.\\n\"\n",
    "    \"65. What are your cancellation/renewal terms?\\n\"\n",
    "    \"66. How do you ensure your pricing remains competitive?\\n\"\n",
    "    \"67. Is your organization GDPR compliant?\\n\"\n",
    "    \"68. Describe your regulatory compliance process.\\n\"\n",
    "    \"69. Are there any pending legal issues or complaints against your company?\\n\"\n",
    "    \"70. Share statistics about technology stability/reliability and down times.\\n\"\n",
    "    \"71. Please provide your business continuity and emergency preparedness plan.\\n\"\n",
    "    \"72. How often does the company update and test the continuity and preparedness plans?\\n\"\n",
    "    \"73. Is your organization equipped to work remotely?\\n\"\n",
    "    \"74. How do you manage price volatility with your suppliers?\\n\"\n",
    "    \"75. Describe your approach to staff retention. What is the average turnover rate for the last five years?\\n\"\n",
    "    \"76. Describe your backup and data recovery policy.\\n\"\n",
    "    \"77. Where do you host your software and customer data?\\n\"\n",
    "    \"78. Are you SOC compliant? ISO certified? If so, what is your current level?\\n\"\n",
    "    \"79. What are the results of your most recent penetration test?\\n\"\n",
    "    \"80. Describe how security vulnerabilities are identified and mitigated.\\n\"\n",
    "    \"81. Is our data accessed and used by your company?\\n\"\n",
    "    \"82. Have you experienced downtime in the last two years? If so, how long were customers impacted?\\n\"\n",
    "    \"83. What are your data import and export capabilities?\\n\"\n",
    "    \"84. Do you have a corporate responsibility policy? If so, please provide it.\\n\"\n",
    "    \"85. What sustainability accreditations and certifications do you hold?\\n\"\n",
    "    \"86. Who in your business monitors, manages and reports sustainability efforts and impacts?\\n\"\n",
    "    \"87. Do you measure the sustainability performance of your vendors and subcontractors?\\n\"\n",
    "    \"88. Do you track, report and manage your use of energy, water and chemicals?\\n\"\n",
    "    \"89. How can we partner with you to enhance environmental sustainability in our mutual supply chain?\\n\"\n",
    "    \"90. Do you use renewable energy?\\n\"\n",
    "    \"91. How does your organization give back to or serve your community?\\n\"\n",
    "    \"92. Do you enforce a supplier code of conduct? If so, please provide it.\\n\"\n",
    "    \"93. Provide any other company mandates concerning your purchasing philosophy and strategy.\\n\"\n",
    "    \"94. Does your organization publish an environmental performance report?\\n\"\n",
    "    \"95. Please provide any current diversity certifications.\\n\"\n",
    "    \"96. Does your company have a supplier diversity program? If so, please provide.\\n\"\n",
    "    \"97. What percentage of your employees are women and/or minorities?\\n\"\n",
    "    \"98. What percentage of senior leadership is women or minorities?\\n\"\n",
    "    \"99. Does your organization have a diversity and inclusion goal and how do you track progress?\\n\"\n",
    "    \"100. Have there been any claims of sexual or general harassment, misconduct or discrimination in the last 5 years? Please provide details, if so.\\n\"\n",
    "    \"101. For last year, what percentage of your company’s procurement spend was with women, minority and veteran-owned businesses?\\n\"\n",
    ")"
   ]
  }
 ],
 "metadata": {
  "kernelspec": {
   "display_name": "Python 3 (ipykernel)",
   "language": "python",
   "name": "python3"
  },
  "language_info": {
   "codemirror_mode": {
    "name": "ipython",
    "version": 3
   },
   "file_extension": ".py",
   "mimetype": "text/x-python",
   "name": "python",
   "nbconvert_exporter": "python",
   "pygments_lexer": "ipython3",
   "version": "3.11.3"
  }
 },
 "nbformat": 4,
 "nbformat_minor": 5
}
