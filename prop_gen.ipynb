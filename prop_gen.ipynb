{
 "cells": [
  {
   "cell_type": "code",
   "execution_count": 3,
   "id": "69c8332f",
   "metadata": {},
   "outputs": [
    {
     "name": "stderr",
     "output_type": "stream",
     "text": [
      "/Users/aaronwong/miniconda3/envs/langchain-env/lib/python3.11/site-packages/pinecone/index.py:4: TqdmExperimentalWarning: Using `tqdm.autonotebook.tqdm` in notebook mode. Use `tqdm.tqdm` instead to force console mode (e.g. in jupyter console)\n",
      "  from tqdm.autonotebook import tqdm\n"
     ]
    }
   ],
   "source": [
    "import magic\n",
    "import nltk\n",
    "from langchain.utils import get_from_dict_or_env\n",
    "from llm_chain import LLMChain\n",
    "from vector_indexer import VectorIndexer\n",
    "from pydantic.class_validators import root_validator\n",
    "from typing import Any, Dict, Optional\n",
    "from preprocessor import preprocess_pdf_documents_in_directory, convert_directory"
   ]
  },
  {
   "cell_type": "code",
   "execution_count": 4,
   "id": "ba01104d",
   "metadata": {},
   "outputs": [
    {
     "name": "stderr",
     "output_type": "stream",
     "text": [
      "[nltk_data] Downloading package punkt to /Users/aaronwong/nltk_data...\n",
      "[nltk_data]   Package punkt is already up-to-date!\n"
     ]
    },
    {
     "data": {
      "text/plain": [
       "True"
      ]
     },
     "execution_count": 4,
     "metadata": {},
     "output_type": "execute_result"
    }
   ],
   "source": [
    "nltk.download('punkt')"
   ]
  },
  {
   "cell_type": "code",
   "execution_count": 5,
   "id": "bb0d0556",
   "metadata": {},
   "outputs": [],
   "source": [
    "class PropGen():\n",
    "    index_name = \"Index_1\"\n",
    "    preprocessed_directory = \"./output_directory\"\n",
    "\n",
    "    def __init__(self, values={}):\n",
    "        self.llm = LLMChain(values)\n",
    "        self.indexer = VectorIndexer(values)\n",
    "        \n",
    "        env = self.validate_environment(values)\n",
    "        self.input_directory = env[\"input_directory\"]\n",
    "        self.index_name = env['index_name']\n",
    "        \n",
    "    def get_index_name(self):\n",
    "        return self.index_name\n",
    "      \n",
    "    def set_index_name(self, index_name):\n",
    "        self.index_name = index_name\n",
    "        \n",
    "    def get_input_directory(self):\n",
    "        return self.input_directory\n",
    "      \n",
    "    def set_input_directory(self, index_name):\n",
    "        self.input_directory = input_directory\n",
    "        \n",
    "    def get_preprocessed_directory(self):\n",
    "        return self.preprocessed_directory\n",
    "      \n",
    "    def set_preprocessed_directory(self, index_name):\n",
    "        self.preprocessed_directory = preprocessed_directory\n",
    "        \n",
    "    def get_llm(self):\n",
    "        return self.llm\n",
    "      \n",
    "    def set_llm(self, llm):\n",
    "        self.llm = llm\n",
    "        \n",
    "    def get_indexer(self):\n",
    "        return self.indexer\n",
    "      \n",
    "    def set_indexer(self, indexer):\n",
    "        self.llm = indexer\n",
    "\n",
    "    @root_validator()\n",
    "    def validate_environment(cls, values: Dict) -> Dict:\n",
    "        \"\"\"Validate that api key exists in environment.\"\"\"\n",
    "        index_name = get_from_dict_or_env(values, \"index_name\", \"INDEX_NAME\")\n",
    "        input_directory = get_from_dict_or_env(values, \"input_directory\", \"INPUT_DIRECTORY\")\n",
    "        values[\"index_name\"] = index_name\n",
    "        values[\"input_directory\"] = input_directory\n",
    "\n",
    "        return values\n",
    "        \n",
    "    def query(self, query):\n",
    "        docsearch = self.indexer.docsearch(self.index_name)\n",
    "        docs = docsearch.similarity_search(query)\n",
    "\n",
    "        return self.llm.query(query, docs)\n",
    "        \n",
    "    def update_index(self):\n",
    "        convert_directory(self.input_directory, self.preprocessed_directory)\n",
    "        pages = preprocess_pdf_documents_in_directory(self.preprocessed_directory)\n",
    "        print(f\"Updating index: {self.index_name}\")\n",
    "        insert_pdf_pages(self, self.index_name, pages)"
   ]
  }
 ],
 "metadata": {
  "kernelspec": {
   "display_name": "Python 3 (ipykernel)",
   "language": "python",
   "name": "python3"
  },
  "language_info": {
   "codemirror_mode": {
    "name": "ipython",
    "version": 3
   },
   "file_extension": ".py",
   "mimetype": "text/x-python",
   "name": "python",
   "nbconvert_exporter": "python",
   "pygments_lexer": "ipython3",
   "version": "3.11.3"
  }
 },
 "nbformat": 4,
 "nbformat_minor": 5
}
