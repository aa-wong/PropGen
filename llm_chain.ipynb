{
 "cells": [
  {
   "cell_type": "code",
   "execution_count": 1,
   "id": "953fb29c",
   "metadata": {},
   "outputs": [],
   "source": [
    "from langchain.llms import OpenAI\n",
    "from langchain import HuggingFaceHub\n",
    "from langchain.chains.question_answering import load_qa_chain\n",
    "from langchain.utils import get_from_dict_or_env\n",
    "from pydantic.class_validators import root_validator\n",
    "from typing import Any, Dict, Optional"
   ]
  },
  {
   "cell_type": "code",
   "execution_count": null,
   "id": "cc67ee9b",
   "metadata": {},
   "outputs": [],
   "source": [
    "class LLMChain():\n",
    "    temperature: int = 0\n",
    "    \n",
    "    def __init__(self, values={}):\n",
    "        env = self.validate_environment(values)\n",
    "#         \"HUGGINGFACEHUB_API_TOKEN\"\n",
    "#         self.llm = HuggingFaceHub(repo_id=\"tiiuae/falcon-40b\", model_kwargs={\"temperature\":0, \"max_length\":64})\n",
    "        self.llm = OpenAI(temperature=self.temperature, openai_api_key=env['openai_api_key'])\n",
    "        \n",
    "    @root_validator()\n",
    "    def validate_environment(cls, values: Dict) -> Dict:\n",
    "        \"\"\"Validate that api key exists in environment.\"\"\"\n",
    "        api_key = get_from_dict_or_env(values, \"openai_api_key\", \"OPENAI_API_KEY\")\n",
    "        values[\"openai_api_key\"] = api_key\n",
    "\n",
    "        return values\n",
    "\n",
    "    def query(self, query, docs):\n",
    "        chain = load_qa_chain(self.llm, chain_type=\"stuff\")\n",
    "        return chain.run(input_documents=docs, question=query)"
   ]
  }
 ],
 "metadata": {
  "kernelspec": {
   "display_name": "Python 3 (ipykernel)",
   "language": "python",
   "name": "python3"
  },
  "language_info": {
   "codemirror_mode": {
    "name": "ipython",
    "version": 3
   },
   "file_extension": ".py",
   "mimetype": "text/x-python",
   "name": "python",
   "nbconvert_exporter": "python",
   "pygments_lexer": "ipython3",
   "version": "3.11.3"
  }
 },
 "nbformat": 4,
 "nbformat_minor": 5
}
