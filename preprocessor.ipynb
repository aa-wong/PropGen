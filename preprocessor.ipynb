{
 "cells": [
  {
   "cell_type": "code",
   "execution_count": 1,
   "id": "dbda40f0",
   "metadata": {},
   "outputs": [],
   "source": [
    "from langchain.document_loaders import DirectoryLoader, UnstructuredFileLoader\n",
    "from langchain.text_splitter import CharacterTextSplitter\n",
    "import pandas as pd\n",
    "import pdfkit\n",
    "import os\n",
    "from pypdf import PdfMerger"
   ]
  },
  {
   "cell_type": "code",
   "execution_count": null,
   "id": "15fe21f5",
   "metadata": {},
   "outputs": [],
   "source": [
    "def preprocess_pdf_documents_in_directory(directory):\n",
    "    print(f\"Preprocessing pdfs in directory {directory}\")\n",
    "    loader = DirectoryLoader(directory, glob='**/*.pdf')\n",
    "    documents = loader.load()\n",
    "    text_splitter = CharacterTextSplitter(chunk_size=1000, chunk_overlap=0)\n",
    "    return text_splitter.split_documents(documents)"
   ]
  },
  {
   "cell_type": "code",
   "execution_count": 11,
   "id": "42f37449",
   "metadata": {},
   "outputs": [],
   "source": [
    "def excel_to_pdf(input_file, output_file):\n",
    "    print(f\"Converting excel: {input_file}\")\n",
    "    path_split = input_file.split('/')\n",
    "    filename = path_split[len(path_split) - 1].split('.')[0]\n",
    "        \n",
    "#     if os.path.isdir(filename) is False:\n",
    "#         os.mkdir(filename) \n",
    "\n",
    "    temp_pdfs = []\n",
    "    temp_htmls = []\n",
    "    xls = pd.ExcelFile(input_file)\n",
    "    \n",
    "    for sheet_name in xls.sheet_names:\n",
    "        df = pd.read_excel(input_file, sheet_name=sheet_name)\n",
    "        df = df.fillna('')\n",
    "        df.to_html(\n",
    "            temp_file := \"\".join([filename, \"_\", str(sheet_name), \".html\"])\n",
    "        )\n",
    "        pdfkit.from_file(\n",
    "            temp_file,\n",
    "            temp_pdf := \"\".join([filename, \"_\", str(sheet_name), \".pdf\"]),\n",
    "            options={\"enable-local-file-access\": \"\", \"quiet\": \"\"},\n",
    "        )\n",
    "        temp_htmls.append(temp_file)\n",
    "        temp_pdfs.append(temp_pdf)\n",
    "    \n",
    "    def merge_pdf(pdfs, output):\n",
    "        merger = PdfMerger()\n",
    "\n",
    "        for pdf in pdfs:\n",
    "            merger.append(pdf)\n",
    "\n",
    "        merger.write(output)\n",
    "        merger.close()\n",
    "\n",
    "    merge_pdf(temp_pdfs, output_file + \".pdf\")\n",
    "    \n",
    "    remove = temp_pdfs + temp_htmls\n",
    "    \n",
    "    for file in remove:\n",
    "        if os.path.exists(file):\n",
    "            os.remove(file)"
   ]
  },
  {
   "cell_type": "code",
   "execution_count": 24,
   "id": "c8a67e79",
   "metadata": {},
   "outputs": [],
   "source": [
    "from docx2pdf import convert"
   ]
  },
  {
   "cell_type": "code",
   "execution_count": 25,
   "id": "f9eacd3d",
   "metadata": {},
   "outputs": [],
   "source": [
    "def convert_docx_to_pdf(input_path, output_path):\n",
    "    try:\n",
    "        print(f\"Converting docx: {input_path}\")\n",
    "        convert(input_path, output_path + \".pdf\")\n",
    "    except Exception as e:\n",
    "        print(f'Error while converting {input_path} to {output_path}: {e}')"
   ]
  },
  {
   "cell_type": "code",
   "execution_count": 14,
   "id": "ca5fd1c4",
   "metadata": {},
   "outputs": [],
   "source": [
    "from os import listdir\n",
    "from os.path import isfile, join"
   ]
  },
  {
   "cell_type": "code",
   "execution_count": 18,
   "id": "d1a97206",
   "metadata": {},
   "outputs": [],
   "source": [
    "def convert_directory(dir_path, output_path):\n",
    "    print(f\"converting files in directoy: {dir_path} to {output_path}\")\n",
    "    if os.path.isdir(output_path) is False:\n",
    "        os.mkdir(output_path) \n",
    "\n",
    "    files = [f for f in listdir(dir_path) if isfile(join(dir_path, f))]\n",
    "    \n",
    "    for file in files:\n",
    "        path_split = file.split('/')\n",
    "        filename = path_split[len(path_split) - 1].split('.')[0]\n",
    "    \n",
    "        if file.endswith((\".xls\", \".xlsx\")):\n",
    "            excel_to_pdf(dir_path + \"/\" + file, output_path + \"/\" + filename)\n",
    "        elif file.endswith(('.docx', \".doc\")):\n",
    "            convert_docx_to_pdf(dir_path + \"/\" + file, output_path + \"/\" + filename)"
   ]
  },
  {
   "cell_type": "code",
   "execution_count": null,
   "id": "82f25bbb",
   "metadata": {},
   "outputs": [],
   "source": []
  }
 ],
 "metadata": {
  "kernelspec": {
   "display_name": "Python 3 (ipykernel)",
   "language": "python",
   "name": "python3"
  },
  "language_info": {
   "codemirror_mode": {
    "name": "ipython",
    "version": 3
   },
   "file_extension": ".py",
   "mimetype": "text/x-python",
   "name": "python",
   "nbconvert_exporter": "python",
   "pygments_lexer": "ipython3",
   "version": "3.11.3"
  }
 },
 "nbformat": 4,
 "nbformat_minor": 5
}
