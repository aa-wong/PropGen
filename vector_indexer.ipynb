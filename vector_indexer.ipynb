{
 "cells": [
  {
   "cell_type": "code",
   "execution_count": 1,
   "id": "91dc3b79",
   "metadata": {},
   "outputs": [
    {
     "name": "stderr",
     "output_type": "stream",
     "text": [
      "/Users/aaronwong/miniconda3/envs/langchain-env/lib/python3.11/site-packages/pinecone/index.py:4: TqdmExperimentalWarning: Using `tqdm.autonotebook.tqdm` in notebook mode. Use `tqdm.tqdm` instead to force console mode (e.g. in jupyter console)\n",
      "  from tqdm.autonotebook import tqdm\n"
     ]
    }
   ],
   "source": [
    "import pinecone\n",
    "from langchain.vectorstores import Pinecone\n",
    "from langchain.utils import get_from_dict_or_env\n",
    "from pydantic.class_validators import root_validator\n",
    "from typing import Any, Dict, Optional\n",
    "from langchain.embeddings import OpenAIEmbeddings"
   ]
  },
  {
   "cell_type": "code",
   "execution_count": 2,
   "id": "d1b08fde",
   "metadata": {},
   "outputs": [],
   "source": [
    "class VectorIndexer():\n",
    "    dimensions: int = 1536\n",
    "    metric: str ='dotproduct'\n",
    "    \n",
    "    def __init__(self, values={}):\n",
    "        env = self.validate_environment(values)\n",
    "\n",
    "        self.embeddings = OpenAIEmbeddings(openai_api_key=env['openai_api_key'])\n",
    "        self.pinecone = pinecone.init(\n",
    "            api_key=env['pinecone_api_key'],  # find at app.pinecone.io\n",
    "            environment=env['pinecone_api_env']\n",
    "        )\n",
    "        \n",
    "    @root_validator()\n",
    "    def validate_environment(cls, values: Dict) -> Dict:\n",
    "        \"\"\"Validate that api key exists in environment.\"\"\"\n",
    "        openai_api_key = get_from_dict_or_env(values, \"openai_api_key\", \"OPENAI_API_KEY\")\n",
    "        pinecone_api_key = get_from_dict_or_env(values, \"pinecone_api_key\", \"PINECONE_API_KEY\")\n",
    "        env = get_from_dict_or_env(values, \"pinecone_api_env\", \"PINECONE_API_ENV\")\n",
    "        values[\"pinecone_api_key\"] = pinecone_api_key\n",
    "        values[\"pinecone_api_env\"] = env\n",
    "        values[\"openai_api_key\"] = openai_api_key\n",
    "        \n",
    "        return values\n",
    "    \n",
    "    def create_index(self, index_name):\n",
    "        if index_name not in pinecone.list_indexes():\n",
    "            # we create a new index\n",
    "            print(f\"Creating new index: {index_name}\")\n",
    "            pinecone.create_index(\n",
    "                name=index_name,\n",
    "                metric=self.metric,\n",
    "                dimension=self.dimensions  # 1536 dim of text-embedding-ada-002\n",
    "            )\n",
    "\n",
    "    def insert_text(self, index_name, text):\n",
    "        self.create_index(index_name)\n",
    "        print(f\"Inserting text to index: {index_name}\")\n",
    "        return Pinecone.from_texts(text, self.embeddings, index_name=index_name)\n",
    "    \n",
    "    def insert_pdf_pages(self, index_name, pages):\n",
    "        print(f\"Inserting PDF docs to index: {index_name}\")\n",
    "        return self.insert_text(index_name, [t.page_content for t in pages])\n",
    "    \n",
    "    def docsearch(self, index_name):\n",
    "        if index_name not in pinecone.list_indexes():\n",
    "            raise ValueError(\n",
    "                f\"index not found with name: {index_name}. Execute 'create_index' or 'insert' to continue.\"\n",
    "            )\n",
    "        return Pinecone.from_existing_index(index_name, self.embeddings)"
   ]
  }
 ],
 "metadata": {
  "kernelspec": {
   "display_name": "Python 3 (ipykernel)",
   "language": "python",
   "name": "python3"
  },
  "language_info": {
   "codemirror_mode": {
    "name": "ipython",
    "version": 3
   },
   "file_extension": ".py",
   "mimetype": "text/x-python",
   "name": "python",
   "nbconvert_exporter": "python",
   "pygments_lexer": "ipython3",
   "version": "3.11.3"
  }
 },
 "nbformat": 4,
 "nbformat_minor": 5
}
